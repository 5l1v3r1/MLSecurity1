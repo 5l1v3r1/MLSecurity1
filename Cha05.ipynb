{
 "cells": [
  {
   "cell_type": "code",
   "execution_count": 1,
   "metadata": {
    "collapsed": true
   },
   "outputs": [],
   "source": [
    "import matplotlib\n",
    "from matplotlib import pyplot as plt\n",
    "%matplotlib inline"
   ]
  },
  {
   "cell_type": "markdown",
   "metadata": {},
   "source": [
    "# Nearest Neighbors"
   ]
  },
  {
   "cell_type": "code",
   "execution_count": 10,
   "metadata": {
    "collapsed": false
   },
   "outputs": [],
   "source": [
    "from sklearn.neighbors import NearestNeighbors\n",
    "import numpy as np\n",
    "\n",
    "\n",
    "X = np.array([[-1, -1], [-2, -1], [-3, -2], [1, 1], [2, 1], [3, 2]])"
   ]
  },
  {
   "cell_type": "code",
   "execution_count": 11,
   "metadata": {
    "collapsed": false
   },
   "outputs": [
    {
     "data": {
      "text/plain": [
       "<matplotlib.collections.PathCollection at 0x7fca24a5b090>"
      ]
     },
     "execution_count": 11,
     "metadata": {},
     "output_type": "execute_result"
    },
    {
     "data": {
      "image/png": "[encoded data removed]",
      "text/plain": [
       "<matplotlib.figure.Figure at 0x7fca24b1c050>"
      ]
     },
     "metadata": {},
     "output_type": "display_data"
    }
   ],
   "source": [
    "plt.scatter(X[:,0],X[:,1])"
   ]
  },
  {
   "cell_type": "code",
   "execution_count": 12,
   "metadata": {
    "collapsed": false
   },
   "outputs": [
    {
     "name": "stdout",
     "output_type": "stream",
     "text": [
      "[[0.         1.        ]\n",
      " [0.         1.        ]\n",
      " [0.         1.41421356]\n",
      " [0.         1.        ]\n",
      " [0.         1.        ]\n",
      " [0.         1.41421356]]\n",
      "[[0 1]\n",
      " [1 0]\n",
      " [2 1]\n",
      " [3 4]\n",
      " [4 3]\n",
      " [5 4]]\n",
      "[[1. 1. 0. 0. 0. 0.]\n",
      " [1. 1. 0. 0. 0. 0.]\n",
      " [0. 1. 1. 0. 0. 0.]\n",
      " [0. 0. 0. 1. 1. 0.]\n",
      " [0. 0. 0. 1. 1. 0.]\n",
      " [0. 0. 0. 0. 1. 1.]]\n"
     ]
    }
   ],
   "source": [
    "#nbrs = NearestNeighbors(n_neighbors=2, algorithm='ball_tree').fit(X)\n",
    "#nbrs = NearestNeighbors(n_neighbors=2, algorithm='auto').fit(X)\n",
    "nbrs = NearestNeighbors(n_neighbors=2).fit(X)\n",
    "\n",
    "distances, indices = nbrs.kneighbors(X)\n",
    "\n",
    "print distances\n",
    "print indices\n",
    "\n",
    "print nbrs.kneighbors_graph(X).toarray()"
   ]
  },
  {
   "cell_type": "code",
   "execution_count": 13,
   "metadata": {
    "collapsed": true
   },
   "outputs": [],
   "source": [
    "import sys\n",
    "import urllib\n",
    "import urlparse\n",
    "import re\n",
    "from hmmlearn import hmm\n",
    "import numpy as np\n",
    "from sklearn.externals import joblib\n",
    "import HTMLParser\n",
    "import nltk\n",
    "import csv\n",
    "import matplotlib.pyplot as plt\n",
    "from nltk.probability import FreqDist\n",
    "from sklearn.feature_extraction.text import CountVectorizer\n",
    "from sklearn.neighbors import KNeighborsClassifier\n",
    "\n",
    "from sklearn.metrics import classification_report\n",
    "from sklearn import metrics"
   ]
  },
  {
   "cell_type": "code",
   "execution_count": 14,
   "metadata": {
    "collapsed": true
   },
   "outputs": [],
   "source": [
    "N=100\n",
    "\n",
    "def load_user_cmd(filename):\n",
    "    cmd_list=[]\n",
    "    dist_max=[]\n",
    "    dist_min=[]\n",
    "    dist=[]\n",
    "    with open(filename) as f:\n",
    "        i=0\n",
    "        x=[]\n",
    "        for line in f:\n",
    "            line=line.strip('\\n')\n",
    "            x.append(line)\n",
    "            dist.append(line)\n",
    "            i+=1\n",
    "            if i == 100:\n",
    "                cmd_list.append(x)\n",
    "                x=[]\n",
    "                i=0\n",
    "\n",
    "    fdist = FreqDist(dist).keys()\n",
    "    dist_max=set(fdist[0:50])\n",
    "    dist_min = set(fdist[-50:])\n",
    "    return cmd_list,dist_max,dist_min\n",
    "\n",
    "def get_user_cmd_feature(user_cmd_list,dist_max,dist_min):\n",
    "    user_cmd_feature=[]\n",
    "    for cmd_block in user_cmd_list:\n",
    "        f1=len(set(cmd_block))\n",
    "        fdist = FreqDist(cmd_block).keys()\n",
    "        f2=fdist[0:10]\n",
    "        f3=fdist[-10:]\n",
    "        f2 = len(set(f2) & set(dist_max))\n",
    "        f3=len(set(f3)&set(dist_min))\n",
    "        x=[f1,f2,f3]\n",
    "        user_cmd_feature.append(x)\n",
    "    return user_cmd_feature\n",
    "\n",
    "def get_label(filename,index=0):\n",
    "    x=[]\n",
    "    with open(filename) as f:\n",
    "        for line in f:\n",
    "            line=line.strip('\\n')\n",
    "            x.append( int(line.split()[index]))\n",
    "    return x"
   ]
  },
  {
   "cell_type": "code",
   "execution_count": 22,
   "metadata": {
    "collapsed": false
   },
   "outputs": [
    {
     "name": "stdout",
     "output_type": "stream",
     "text": [
      "[0, 0, 0, 0, 0, 0, 0, 0, 0, 0, 0, 0, 0, 0, 0, 0, 0, 0, 0, 0, 0, 0, 0, 0, 0, 0, 0, 0, 0, 0, 0, 0, 0, 0, 0, 0, 0, 0, 0, 0, 0, 0, 0, 0, 0, 0, 0, 0, 0, 0, 0, 0, 0, 0, 0, 0, 0, 0, 0, 0, 0, 0, 0, 0, 0, 0, 0, 0, 0, 0, 0, 0, 0, 0, 0, 0, 0, 0, 0, 0, 0, 0, 0, 0, 0, 0, 0, 0, 0, 1, 1, 1, 1, 1, 1, 1, 1, 1, 1, 1, 0, 0, 0, 0, 0, 0, 0, 0, 0, 0, 0, 0, 0, 0, 0, 0, 0, 0, 0, 0, 0, 0, 0, 0, 0, 0, 0, 0, 0, 0, 0, 0, 0, 0, 0, 0, 0, 0, 0, 0, 0, 0, 0, 0, 0, 0, 0, 0, 0, 0]\n",
      "[0, 0, 0, 0, 0, 0, 0, 0, 0, 0, 0, 0, 0, 0, 0, 0, 0, 0, 0, 0, 0, 0, 0, 0, 0, 0, 0, 0, 0, 0, 0, 0, 0, 0, 0, 0, 0, 0, 0, 0, 0, 0, 0, 0, 0, 0, 0, 0, 0, 0, 0, 0, 0, 0, 0, 0, 0, 0, 0, 0, 0, 0, 0, 0, 0, 0, 0, 0, 0, 0, 0, 0, 0, 0, 0, 0, 0, 0, 0, 0, 0, 0, 0, 0, 0, 0, 0, 0, 0, 1, 1, 1, 1, 1, 1, 1, 1, 1, 1, 1]\n",
      "[0, 0, 0, 0, 0, 0, 0, 0, 0, 0, 0, 0, 0, 0, 0, 0, 0, 0, 0, 0, 0, 0, 0, 0, 0, 0, 0, 0, 0, 0, 0, 0, 0, 0, 0, 0, 0, 0, 0, 0, 0, 0, 0, 0, 0, 0, 0, 0, 0, 0]\n",
      "[0 1 0 0 0 0 0 0 0 0 0 0 0 0 0 0 0 0 0 0 0 0 0 0 0 0 0 0 0 0 0 0 0 0 0 0 0\n",
      " 0 0 0 0 0 0 0 0 0 0 0 0 0]\n",
      "98.0\n",
      "             precision    recall  f1-score   support\n",
      "\n",
      "          0       1.00      0.98      0.99        50\n",
      "          1       0.00      0.00      0.00         0\n",
      "\n",
      "avg / total       1.00      0.98      0.99        50\n",
      "\n",
      "[[49  1]\n",
      " [ 0  0]]\n"
     ]
    }
   ],
   "source": [
    "if __name__ == '__main__':\n",
    "    user_cmd_list,user_cmd_dist_max,user_cmd_dist_min=load_user_cmd(\"data/MasqueradeDat/User11\")\n",
    "    user_cmd_feature=get_user_cmd_feature(user_cmd_list,user_cmd_dist_max,user_cmd_dist_min)\n",
    "    labels=get_label(\"data/MasqueradeDat/label.txt\",2)\n",
    "    y=[0]*50+labels\n",
    "\n",
    "    x_train=user_cmd_feature[0:N]\n",
    "    y_train=y[0:N]\n",
    "\n",
    "    x_test=user_cmd_feature[N:150]\n",
    "    y_test=y[N:150]\n",
    "\n",
    "    neigh = KNeighborsClassifier(n_neighbors=3)\n",
    "    neigh.fit(x_train, y_train)\n",
    "    y_predict=neigh.predict(x_test)\n",
    "\n",
    "    score=np.mean(y_test==y_predict)*100\n",
    "\n",
    "    print y\n",
    "    print y_train\n",
    "    print y_test\n",
    "    print y_predict\n",
    "    print score\n",
    "\n",
    "    print classification_report(y_test, y_predict)\n",
    "\n",
    "    print metrics.confusion_matrix(y_test, y_predict)"
   ]
  },
  {
   "cell_type": "code",
   "execution_count": null,
   "metadata": {
    "collapsed": true
   },
   "outputs": [],
   "source": []
  }
 ],
 "metadata": {
  "kernelspec": {
   "display_name": "Python 2",
   "language": "python",
   "name": "python2"
  },
  "language_info": {
   "codemirror_mode": {
    "name": "ipython",
    "version": 2
   },
   "file_extension": ".py",
   "mimetype": "text/x-python",
   "name": "python",
   "nbconvert_exporter": "python",
   "pygments_lexer": "ipython2",
   "version": "2.7.13"
  }
 },
 "nbformat": 4,
 "nbformat_minor": 0
}
